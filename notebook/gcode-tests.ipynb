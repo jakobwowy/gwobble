{
 "cells": [
  {
   "cell_type": "code",
   "execution_count": 30,
   "metadata": {},
   "outputs": [],
   "source": [
    "import pandas as pd\n",
    "import csv\n",
    "import math\n",
    "import pandas as pd"
   ]
  },
  {
   "cell_type": "code",
   "execution_count": 31,
   "metadata": {},
   "outputs": [],
   "source": [
    "# read raw gcode data\n",
    "gcode_path = \"/home/meister/Daten/git/gwobble/data/gcode/Cone.gcode\"\n",
    "gcode = []\n",
    "with open(gcode_path, \"r\") as gcode_file:\n",
    "    gcode_reader = csv.reader(gcode_file, delimiter=' ')\n",
    "    for codeline in gcode_reader:\n",
    "        gcode.append(codeline)"
   ]
  },
  {
   "cell_type": "code",
   "execution_count": 35,
   "metadata": {},
   "outputs": [
    {
     "name": "stdout",
     "output_type": "stream",
     "text": [
      "{'M': '163', 'S': '2', 'P': '0.33'}\n",
      "{'M': '164', 'S': '4'}\n",
      "{'G': '0', 'X': '10', 'Y': '20', 'F': '6000'}\n",
      "{'G': '1', 'F': '1200', 'Z': '2'}\n",
      "{'G': '92', 'E': '0'}\n",
      "{'G': '28'}\n",
      "{'comment': 'END OF THE START'}\n",
      "{'M': '83', 'comment': 'relative extrusion'}\n",
      "{'comment': ''}\n",
      "{'comment': ''}\n",
      "{'M': '107'}\n",
      "{'G': '0', 'F': '1500', 'X': '88.209', 'Y': '104.053', 'Z': '0.3'}\n",
      "{'G': '0', 'X': '88.603', 'Y': '104.545'}\n",
      "{'comment': ''}\n",
      "{'G': '1', 'X': '89.879', 'Y': '103.525', 'E': '0.13478'}\n",
      "{'G': '1', 'X': '90.39', 'Y': '103.142', 'E': '0.05269'}\n",
      "{'G': '1', 'X': '91.723', 'Y': '102.219', 'E': '0.13377'}\n",
      "{'G': '1', 'X': '92.262', 'Y': '101.87', 'E': '0.05298'}\n",
      "{'G': '1', 'X': '93.355', 'Y': '101.212', 'E': '0.10526'}\n",
      "{'G': '1', 'X': '94.145', 'Y': '100.767', 'E': '0.07481'}\n",
      "{'G': '1', 'X': '95.371', 'Y': '100.137', 'E': '0.11373'}\n",
      "{'G': '1', 'X': '96.197', 'Y': '99.743', 'E': '0.07551'}\n",
      "{'G': '1', 'X': '97.375', 'Y': '99.234', 'E': '0.10588'}\n",
      "{'G': '1', 'X': '98.242', 'Y': '98.89', 'E': '0.07696'}\n",
      "{'G': '1', 'X': '99.515', 'Y': '98.44', 'E': '0.1114'}\n",
      "{'G': '1', 'X': '100.398', 'Y': '98.159', 'E': '0.07645'}\n",
      "{'G': '1', 'X': '102.006', 'Y': '97.718', 'E': '0.13757'}\n",
      "{'G': '1', 'X': '102.544', 'Y': '97.589', 'E': '0.04565'}\n",
      "{'G': '1', 'X': '104.216', 'Y': '97.249', 'E': '0.14077'}\n",
      "{'G': '1', 'X': '104.765', 'Y': '97.156', 'E': '0.04594'}\n"
     ]
    }
   ],
   "source": [
    "# parse code lines into code obj list\n",
    "gcode_objs = []\n",
    "for line in gcode:\n",
    "    parsed_line = {}\n",
    "    for i in range(len(line)):\n",
    "        if len(line[i]) == 0:\n",
    "            continue\n",
    "        if line[i][0] == \";\":\n",
    "            parsed_line[\"comment\"] = \" \".join(line[i:-1]).replace(\"; \", \"\").replace(\";\", \"\")\n",
    "            break\n",
    "        else:\n",
    "            parsed_line[line[i][:1]] = line[i][1:]\n",
    "    gcode_objs.append(parsed_line)\n",
    "\n",
    "for i in range(30, 60):\n",
    "    print(gcode_objs[i])"
   ]
  },
  {
   "cell_type": "code",
   "execution_count": 38,
   "metadata": {},
   "outputs": [
    {
     "name": "stdout",
     "output_type": "stream",
     "text": [
      "dX: 0.511000, dY: -0.383000, vector length: 0.638600; ratio: 0.082509\n",
      "dX: 1.333000, dY: -0.923000, vector length: 1.621363; ratio: 0.082505\n",
      "dX: 0.539000, dY: -0.349000, vector length: 0.642123; ratio: 0.082508\n",
      "dX: 1.093000, dY: -0.658000, vector length: 1.275779; ratio: 0.082506\n",
      "dX: 0.790000, dY: -0.445000, vector length: 0.906711; ratio: 0.082507\n",
      "dX: 1.226000, dY: -0.630000, vector length: 1.378396; ratio: 0.082509\n",
      "dX: 0.826000, dY: -0.394000, vector length: 0.915157; ratio: 0.082510\n",
      "dX: 1.178000, dY: -0.509000, vector length: 1.283263; ratio: 0.082508\n",
      "dX: 0.867000, dY: -0.344000, vector length: 0.932751; ratio: 0.082509\n",
      "dX: 1.273000, dY: -0.450000, vector length: 1.350196; ratio: 0.082507\n",
      "dX: 0.883000, dY: -0.281000, vector length: 0.926634; ratio: 0.082503\n",
      "dX: 1.608000, dY: -0.441000, vector length: 1.667377; ratio: 0.082507\n",
      "dX: 0.538000, dY: -0.129000, vector length: 0.553249; ratio: 0.082513\n",
      "dX: 1.672000, dY: -0.340000, vector length: 1.706219; ratio: 0.082504\n",
      "dX: 0.549000, dY: -0.093000, vector length: 0.556821; ratio: 0.082504\n",
      "dX: 1.314000, dY: -0.181000, vector length: 1.326408; ratio: 0.082509\n",
      "dX: 0.870000, dY: -0.094000, vector length: 0.875063; ratio: 0.082508\n",
      "dX: 1.408000, dY: -0.098000, vector length: 1.411406; ratio: 0.082506\n",
      "dX: 0.849000, dY: -0.033000, vector length: 0.849641; ratio: 0.082505\n",
      "dX: 1.302000, dY: -0.004000, vector length: 1.302006; ratio: 0.082503\n",
      "dX: 0.973000, dY: 0.027000, vector length: 0.973375; ratio: 0.082507\n",
      "dX: 1.680000, dY: 0.118000, vector length: 1.684139; ratio: 0.082505\n",
      "dX: 0.563000, dY: 0.058000, vector length: 0.565980; ratio: 0.082512\n",
      "dX: 1.657000, dY: 0.229000, vector length: 1.672749; ratio: 0.082505\n",
      "dX: 0.568000, dY: 0.097000, vector length: 0.576223; ratio: 0.082503\n",
      "dX: 1.624000, dY: 0.338000, vector length: 1.658801; ratio: 0.082505\n",
      "dX: 0.571000, dY: 0.138000, vector length: 0.587439; ratio: 0.082511\n",
      "dX: 1.611000, dY: 0.450000, vector length: 1.672669; ratio: 0.082509\n",
      "dX: 0.559000, dY: 0.177000, vector length: 0.586353; ratio: 0.082510\n",
      "dX: 1.523000, dY: 0.538000, vector length: 1.615232; ratio: 0.082508\n",
      "dX: 0.558000, dY: 0.217000, vector length: 0.598709; ratio: 0.082511\n",
      "dX: 1.266000, dY: 0.540000, vector length: 1.376356; ratio: 0.082508\n",
      "dX: 0.799000, dY: 0.371000, vector length: 0.880932; ratio: 0.082503\n",
      "dX: 1.205000, dY: 0.614000, vector length: 1.352413; ratio: 0.082504\n",
      "dX: 0.788000, dY: 0.432000, vector length: 0.898648; ratio: 0.082502\n",
      "dX: 1.455000, dY: 0.878000, vector length: 1.699385; ratio: 0.082506\n",
      "dX: 0.463000, dY: 0.299000, vector length: 0.551153; ratio: 0.082500\n",
      "dX: 1.088000, dY: 0.755000, vector length: 1.324299; ratio: 0.082504\n",
      "dX: 0.718000, dY: 0.532000, vector length: 0.893615; ratio: 0.082508\n",
      "dX: 1.305000, dY: 1.048000, vector length: 1.673717; ratio: 0.082505\n",
      "dX: 0.467000, dY: 0.401000, vector length: 0.615540; ratio: 0.082513\n",
      "dX: 0.976000, dY: 0.895000, vector length: 1.324236; ratio: 0.082508\n",
      "dX: 0.648000, dY: 0.631000, vector length: 0.904469; ratio: 0.082501\n",
      "dX: 1.190000, dY: 1.258000, vector length: 1.731665; ratio: 0.082504\n",
      "dX: 0.358000, dY: 0.405000, vector length: 0.540545; ratio: 0.082509\n",
      "dX: 1.038000, dY: 1.257000, vector length: 1.630182; ratio: 0.082506\n",
      "dX: 0.356000, dY: 0.462000, vector length: 0.583250; ratio: 0.082503\n",
      "dX: 0.973000, dY: 1.354000, vector length: 1.667347; ratio: 0.082508\n",
      "found 450 lines with draw codes.\n"
     ]
    }
   ],
   "source": [
    "# get a list of vector length / material use ratios\n",
    "line_nr = 0\n",
    "ratios = []\n",
    "for i in range(500):\n",
    "    if all(mnemo in gcode_objs[i].keys() for mnemo in (\"G\", \"X\", \"Y\", \"E\")):\n",
    "        line_nr += 1\n",
    "        xy_new = (float(gcode_objs[i][\"X\"]), float(gcode_objs[i][\"Y\"]))\n",
    "        if line_nr > 1:\n",
    "            dx = xy_new[0] - xy[0]\n",
    "            dy = xy_new[1] - xy[1]\n",
    "            v_len = math.sqrt(dx*dx + dy*dy)\n",
    "            ratios.append(float(gcode_objs[i][\"E\"]) / v_len)\n",
    "            if line_nr < 50:\n",
    "                print(f\"dX: {dx:.6f}, dY: {dy:.6f}, vector length: {v_len:.6f}; ratio: {ratios[-1]:.6f}\")\n",
    "\n",
    "        xy = xy_new\n",
    "\n",
    "print(f\"found {line_nr} lines with draw codes.\")"
   ]
  },
  {
   "cell_type": "code",
   "execution_count": null,
   "metadata": {},
   "outputs": [],
   "source": []
  }
 ],
 "metadata": {
  "kernelspec": {
   "display_name": "Python 3.10.6 ('py10venv')",
   "language": "python",
   "name": "python3"
  },
  "language_info": {
   "codemirror_mode": {
    "name": "ipython",
    "version": 3
   },
   "file_extension": ".py",
   "mimetype": "text/x-python",
   "name": "python",
   "nbconvert_exporter": "python",
   "pygments_lexer": "ipython3",
   "version": "3.10.6"
  },
  "orig_nbformat": 4,
  "vscode": {
   "interpreter": {
    "hash": "ab61e57538beb1a7e3bb05305d810a446a7675316f9b40c526f1b1845f02e7a9"
   }
  }
 },
 "nbformat": 4,
 "nbformat_minor": 2
}
