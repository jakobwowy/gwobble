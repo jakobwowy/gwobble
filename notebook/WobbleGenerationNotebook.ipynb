{
 "cells": [
  {
   "cell_type": "code",
   "execution_count": 3,
   "metadata": {
    "collapsed": true
   },
   "outputs": [
    {
     "ename": "ModuleNotFoundError",
     "evalue": "No module named 'request'",
     "output_type": "error",
     "traceback": [
      "\u001B[0;31m---------------------------------------------------------------------------\u001B[0m",
      "\u001B[0;31mModuleNotFoundError\u001B[0m                       Traceback (most recent call last)",
      "Cell \u001B[0;32mIn [3], line 1\u001B[0m\n\u001B[0;32m----> 1\u001B[0m \u001B[38;5;28;01mfrom\u001B[39;00m \u001B[38;5;21;01msrc\u001B[39;00m\u001B[38;5;21;01m.\u001B[39;00m\u001B[38;5;21;01mGCodeContainer\u001B[39;00m \u001B[38;5;28;01mimport\u001B[39;00m GcodeContainer\n\u001B[1;32m      2\u001B[0m \u001B[38;5;28;01mfrom\u001B[39;00m \u001B[38;5;21;01msrc\u001B[39;00m\u001B[38;5;21;01m.\u001B[39;00m\u001B[38;5;21;01mWobbleGenerator\u001B[39;00m \u001B[38;5;28;01mimport\u001B[39;00m WobbleGenerator\n",
      "File \u001B[0;32m~/coding/gwobble/src/GCodeContainer.py:4\u001B[0m\n\u001B[1;32m      1\u001B[0m \u001B[38;5;28;01mimport\u001B[39;00m \u001B[38;5;21;01mcopy\u001B[39;00m\n\u001B[1;32m      3\u001B[0m \u001B[38;5;28;01mfrom\u001B[39;00m \u001B[38;5;21;01mgcodeparser\u001B[39;00m \u001B[38;5;28;01mimport\u001B[39;00m GcodeLine, GcodeParser\n\u001B[0;32m----> 4\u001B[0m \u001B[38;5;28;01mimport\u001B[39;00m \u001B[38;5;21;01mpanda\u001B[39;00m \u001B[38;5;28;01mas\u001B[39;00m \u001B[38;5;21;01mpd\u001B[39;00m\n\u001B[1;32m      5\u001B[0m \u001B[38;5;28;01mimport\u001B[39;00m \u001B[38;5;21;01mnumpy\u001B[39;00m \u001B[38;5;28;01mas\u001B[39;00m \u001B[38;5;21;01mnp\u001B[39;00m\n\u001B[1;32m      8\u001B[0m \u001B[38;5;28;01mclass\u001B[39;00m \u001B[38;5;21;01mGcodeContainer\u001B[39;00m:\n",
      "File \u001B[0;32m~/.pyenv/versions/3.9.9/lib/python3.9/site-packages/panda/__init__.py:1\u001B[0m\n\u001B[0;32m----> 1\u001B[0m \u001B[38;5;28;01mfrom\u001B[39;00m \u001B[38;5;21;01mrequest\u001B[39;00m \u001B[38;5;28;01mimport\u001B[39;00m PandaRequest\n\u001B[1;32m      2\u001B[0m \u001B[38;5;28;01mfrom\u001B[39;00m \u001B[38;5;21;01mmodels\u001B[39;00m \u001B[38;5;28;01mimport\u001B[39;00m Video, Cloud, Encoding, Profile, Notifications, PandaDict\n\u001B[1;32m      3\u001B[0m \u001B[38;5;28;01mfrom\u001B[39;00m \u001B[38;5;21;01mmodels\u001B[39;00m \u001B[38;5;28;01mimport\u001B[39;00m GroupRetriever, SingleRetriever\n",
      "\u001B[0;31mModuleNotFoundError\u001B[0m: No module named 'request'"
     ]
    }
   ],
   "source": [
    "from src.GCodeContainer import GcodeContainer\n",
    "from src.WobbleGenerator import WobbleGenerator"
   ]
  },
  {
   "cell_type": "code",
   "execution_count": null,
   "outputs": [],
   "source": [
    "#file_name = 'ConeThicker3.gcode'\n",
    "\n",
    "file_name = 'CubeSpiralWithoutButtom.gcode'\n",
    "line_height = 0.3\n",
    "\n",
    "remove_first_line_count = 0 #5\n",
    "\n",
    "# load gcode file\n",
    "with open(file_name) as f:\n",
    "    gcode = f.read()\n",
    "\n",
    "gcode = GcodeContainer(gcode,\n",
    "                       start_layer_height=0,\n",
    "                       printer_setting_line_height=line_height)\n",
    "\n",
    "gcode.separate_start_end(remove_first_line_count, limit_lines=None)\n",
    "\n",
    "gcode.calc_g1_dataframe()\n",
    "\n",
    "gcode.gcode_df[[\"line_nr\", \"Z\", \"X\", \"Y\", \"E\", \"F\",\"layer_nr\", \"section_type\", \"distance_xy_cumsum\", \"phi\"]][:100]"
   ],
   "metadata": {
    "collapsed": false,
    "pycharm": {
     "name": "#%%\n"
    }
   }
  },
  {
   "cell_type": "code",
   "execution_count": null,
   "outputs": [],
   "source": [
    "gen = WobbleGenerator(gcode)\n",
    "\n",
    "gen.generate_wooble(wobble_count=50, wobble_amplitude=2.0, wobble_segments=16)\n",
    "\n",
    "gcode.gcode_df[:100]"
   ],
   "metadata": {
    "collapsed": false,
    "pycharm": {
     "name": "#%%\n"
    }
   }
  }
 ],
 "metadata": {
  "kernelspec": {
   "display_name": "Python 3",
   "language": "python",
   "name": "python3"
  },
  "language_info": {
   "codemirror_mode": {
    "name": "ipython",
    "version": 2
   },
   "file_extension": ".py",
   "mimetype": "text/x-python",
   "name": "python",
   "nbconvert_exporter": "python",
   "pygments_lexer": "ipython2",
   "version": "2.7.6"
  }
 },
 "nbformat": 4,
 "nbformat_minor": 0
}