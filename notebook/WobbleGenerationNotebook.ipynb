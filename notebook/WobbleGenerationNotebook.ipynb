{
 "cells": [
  {
   "cell_type": "code",
   "execution_count": 1,
   "metadata": {
    "collapsed": true
   },
   "outputs": [],
   "source": [
    "from src.GCodeContainer import GcodeContainer\n",
    "from src.WobbleGenerator import WobbleGenerator"
   ]
  },
  {
   "cell_type": "code",
   "execution_count": 2,
   "outputs": [
    {
     "name": "stdout",
     "output_type": "stream",
     "text": [
      "0 ; FLAVOR:Marlin\n",
      "1 ; TIME:1182\n",
      "2 ; Filament used: 3.22587m\n",
      "3 ; Layer height: 0.4\n",
      "4 ; MINX:76.12\n",
      "5 ; MINY:96.116\n",
      "6 ; MINZ:0.3\n",
      "7 ; MAXX:143.896\n",
      "8 ; MAXY:163.889\n",
      "9 ; MAXZ:70.112\n",
      "10 ; Generated with Cura_SteamEngine 99.9.1-Arachne_engine_beta\n",
      "11 M140 S70 line_nr11 layer_nr0 section_typeNone\n",
      "12 M105 line_nr12 layer_nr0 section_typeNone\n",
      "13 M190 S70 line_nr13 layer_nr0 section_typeNone\n",
      "14 M104 S230 line_nr14 layer_nr0 section_typeNone\n",
      "15 M105 line_nr15 layer_nr0 section_typeNone\n",
      "16 M109 S230 line_nr16 layer_nr0 section_typeNone\n",
      "17 M82 line_nr17 layer_nr0 section_typeNone ; absolute extrusion mode\n",
      "18 G28 line_nr18 layer_nr0 section_typeNone\n",
      "19 G1 Z15 F300 line_nr19 layer_nr0 section_typeNone\n",
      "-------------\n",
      "0 M83 line_nr37 layer_nr0 section_typeNone ; relative extrusion mode\n",
      "1 ; LAYER_COUNT:175\n",
      "2 ; LAYER:0\n",
      "3 M107 line_nr40 layer_nr0 section_typeNone\n",
      "4 G0 F1500 X88.209 Y104.053 Z0.3 line_nr41 layer_nr0 section_typeNone\n",
      "5 G0 X88.603 Y104.545 line_nr42 layer_nr0 section_typeNone\n",
      "6 ; TYPE:SKIRT\n",
      "7 G1 X89.879 Y103.525 E0.13478 line_nr44 layer_nr0 section_typeSKIRT\n",
      "8 G1 X90.39 Y103.142 E0.05269 line_nr45 layer_nr0 section_typeSKIRT\n",
      "9 G1 X91.723 Y102.219 E0.13377 line_nr46 layer_nr0 section_typeSKIRT\n",
      "10 G1 X92.262 Y101.87 E0.05298 line_nr47 layer_nr0 section_typeSKIRT\n",
      "11 G1 X93.355 Y101.212 E0.10526 line_nr48 layer_nr0 section_typeSKIRT\n",
      "12 G1 X94.145 Y100.767 E0.07481 line_nr49 layer_nr0 section_typeSKIRT\n",
      "13 G1 X95.371 Y100.137 E0.11373 line_nr50 layer_nr0 section_typeSKIRT\n",
      "14 G1 X96.197 Y99.743 E0.07551 line_nr51 layer_nr0 section_typeSKIRT\n",
      "15 G1 X97.375 Y99.234 E0.10588 line_nr52 layer_nr0 section_typeSKIRT\n",
      "16 G1 X98.242 Y98.89 E0.07696 line_nr53 layer_nr0 section_typeSKIRT\n",
      "17 G1 X99.515 Y98.44 E0.1114 line_nr54 layer_nr0 section_typeSKIRT\n",
      "18 G1 X100.398 Y98.159 E0.07645 line_nr55 layer_nr0 section_typeSKIRT\n",
      "19 G1 X102.006 Y97.718 E0.13757 line_nr56 layer_nr0 section_typeSKIRT\n",
      "CenterPointXY (110.03530746759174, 129.90732780719372)\n"
     ]
    },
    {
     "data": {
      "text/plain": "    line_nr      Z        X        Y        E       F  layer_nr section_type  \\\n0        44  1.104   89.879  103.525  0.13478  3150.0         0        SKIRT   \n1        45  1.104   90.390  103.142  0.05269  3150.0         0        SKIRT   \n2        46  1.104   91.723  102.219  0.13377  3150.0         0        SKIRT   \n3        47  1.104   92.262  101.870  0.05298  3150.0         0        SKIRT   \n4        48  1.104   93.355  101.212  0.10526  3150.0         0        SKIRT   \n..      ...    ...      ...      ...      ...     ...       ...          ...   \n95      139  1.104  128.720  157.497  0.07503  3150.0         0        SKIRT   \n96      140  1.104  127.315  158.402  0.13789  3150.0         0        SKIRT   \n97      141  1.104  126.820  158.699  0.04763  3150.0         0        SKIRT   \n98      142  1.104  125.664  159.343  0.10918  3150.0         0        SKIRT   \n99      143  1.104  124.844  159.769  0.07624  3150.0         0        SKIRT   \n\n    distance_xy_cumsum         phi  \n0                  NaN -142.619886  \n1             0.638600 -143.721947  \n2             2.259963 -146.520433  \n3             2.902086 -147.628740  \n4             4.177865 -149.830991  \n..                 ...         ...  \n95          106.227924   34.107233  \n96          107.899166   31.233392  \n97          108.476430   30.240919  \n98          109.799711   27.965798  \n99          110.723765   26.377258  \n\n[100 rows x 10 columns]",
      "text/html": "<div>\n<style scoped>\n    .dataframe tbody tr th:only-of-type {\n        vertical-align: middle;\n    }\n\n    .dataframe tbody tr th {\n        vertical-align: top;\n    }\n\n    .dataframe thead th {\n        text-align: right;\n    }\n</style>\n<table border=\"1\" class=\"dataframe\">\n  <thead>\n    <tr style=\"text-align: right;\">\n      <th></th>\n      <th>line_nr</th>\n      <th>Z</th>\n      <th>X</th>\n      <th>Y</th>\n      <th>E</th>\n      <th>F</th>\n      <th>layer_nr</th>\n      <th>section_type</th>\n      <th>distance_xy_cumsum</th>\n      <th>phi</th>\n    </tr>\n  </thead>\n  <tbody>\n    <tr>\n      <th>0</th>\n      <td>44</td>\n      <td>1.104</td>\n      <td>89.879</td>\n      <td>103.525</td>\n      <td>0.13478</td>\n      <td>3150.0</td>\n      <td>0</td>\n      <td>SKIRT</td>\n      <td>NaN</td>\n      <td>-142.619886</td>\n    </tr>\n    <tr>\n      <th>1</th>\n      <td>45</td>\n      <td>1.104</td>\n      <td>90.390</td>\n      <td>103.142</td>\n      <td>0.05269</td>\n      <td>3150.0</td>\n      <td>0</td>\n      <td>SKIRT</td>\n      <td>0.638600</td>\n      <td>-143.721947</td>\n    </tr>\n    <tr>\n      <th>2</th>\n      <td>46</td>\n      <td>1.104</td>\n      <td>91.723</td>\n      <td>102.219</td>\n      <td>0.13377</td>\n      <td>3150.0</td>\n      <td>0</td>\n      <td>SKIRT</td>\n      <td>2.259963</td>\n      <td>-146.520433</td>\n    </tr>\n    <tr>\n      <th>3</th>\n      <td>47</td>\n      <td>1.104</td>\n      <td>92.262</td>\n      <td>101.870</td>\n      <td>0.05298</td>\n      <td>3150.0</td>\n      <td>0</td>\n      <td>SKIRT</td>\n      <td>2.902086</td>\n      <td>-147.628740</td>\n    </tr>\n    <tr>\n      <th>4</th>\n      <td>48</td>\n      <td>1.104</td>\n      <td>93.355</td>\n      <td>101.212</td>\n      <td>0.10526</td>\n      <td>3150.0</td>\n      <td>0</td>\n      <td>SKIRT</td>\n      <td>4.177865</td>\n      <td>-149.830991</td>\n    </tr>\n    <tr>\n      <th>...</th>\n      <td>...</td>\n      <td>...</td>\n      <td>...</td>\n      <td>...</td>\n      <td>...</td>\n      <td>...</td>\n      <td>...</td>\n      <td>...</td>\n      <td>...</td>\n      <td>...</td>\n    </tr>\n    <tr>\n      <th>95</th>\n      <td>139</td>\n      <td>1.104</td>\n      <td>128.720</td>\n      <td>157.497</td>\n      <td>0.07503</td>\n      <td>3150.0</td>\n      <td>0</td>\n      <td>SKIRT</td>\n      <td>106.227924</td>\n      <td>34.107233</td>\n    </tr>\n    <tr>\n      <th>96</th>\n      <td>140</td>\n      <td>1.104</td>\n      <td>127.315</td>\n      <td>158.402</td>\n      <td>0.13789</td>\n      <td>3150.0</td>\n      <td>0</td>\n      <td>SKIRT</td>\n      <td>107.899166</td>\n      <td>31.233392</td>\n    </tr>\n    <tr>\n      <th>97</th>\n      <td>141</td>\n      <td>1.104</td>\n      <td>126.820</td>\n      <td>158.699</td>\n      <td>0.04763</td>\n      <td>3150.0</td>\n      <td>0</td>\n      <td>SKIRT</td>\n      <td>108.476430</td>\n      <td>30.240919</td>\n    </tr>\n    <tr>\n      <th>98</th>\n      <td>142</td>\n      <td>1.104</td>\n      <td>125.664</td>\n      <td>159.343</td>\n      <td>0.10918</td>\n      <td>3150.0</td>\n      <td>0</td>\n      <td>SKIRT</td>\n      <td>109.799711</td>\n      <td>27.965798</td>\n    </tr>\n    <tr>\n      <th>99</th>\n      <td>143</td>\n      <td>1.104</td>\n      <td>124.844</td>\n      <td>159.769</td>\n      <td>0.07624</td>\n      <td>3150.0</td>\n      <td>0</td>\n      <td>SKIRT</td>\n      <td>110.723765</td>\n      <td>26.377258</td>\n    </tr>\n  </tbody>\n</table>\n<p>100 rows × 10 columns</p>\n</div>"
     },
     "execution_count": 2,
     "metadata": {},
     "output_type": "execute_result"
    }
   ],
   "source": [
    "line_height = 0.3\n",
    "\n",
    "remove_first_line_count = 0\n",
    "\n",
    "# load gcode file\n",
    "gcode_str = GcodeContainer.load_gcode_file('../data/gcode/Cone.gcode')\n",
    "\n",
    "gcode = GcodeContainer(gcode_str,\n",
    "                       start_layer_height=0,\n",
    "                       printer_setting_line_height=line_height)\n",
    "\n",
    "gcode.separate_start_end(remove_first_line_count, limit_lines=None)\n",
    "\n",
    "gcode.calc_g1_dataframe()\n",
    "\n",
    "gcode.gcode_df[[\"line_nr\", \"Z\", \"X\", \"Y\", \"E\", \"F\",\"layer_nr\", \"section_type\", \"distance_xy_cumsum\", \"phi\"]][:100]"
   ],
   "metadata": {
    "collapsed": false,
    "pycharm": {
     "name": "#%%\n"
    }
   }
  },
  {
   "cell_type": "code",
   "execution_count": null,
   "outputs": [],
   "source": [
    "gen = WobbleGenerator(gcode)\n",
    "\n",
    "gen.generate_wooble(wobble_count=50, wobble_amplitude=2.0, wobble_segments=16)\n",
    "\n",
    "gcode.gcode_df[:100]"
   ],
   "metadata": {
    "collapsed": false,
    "pycharm": {
     "name": "#%%\n"
    }
   }
  }
 ],
 "metadata": {
  "kernelspec": {
   "display_name": "Python 3",
   "language": "python",
   "name": "python3"
  },
  "language_info": {
   "codemirror_mode": {
    "name": "ipython",
    "version": 2
   },
   "file_extension": ".py",
   "mimetype": "text/x-python",
   "name": "python",
   "nbconvert_exporter": "python",
   "pygments_lexer": "ipython2",
   "version": "2.7.6"
  }
 },
 "nbformat": 4,
 "nbformat_minor": 0
}