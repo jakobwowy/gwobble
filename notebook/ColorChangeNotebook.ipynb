{
 "cells": [
  {
   "cell_type": "code",
   "execution_count": 6,
   "metadata": {
    "pycharm": {
     "name": "#%%\n"
    }
   },
   "outputs": [],
   "source": [
    "from src.ColorChange import ColorChangeHandler\n",
    "from src.GCodeContainer import GcodeContainer\n"
   ]
  },
  {
   "cell_type": "code",
   "execution_count": 8,
   "metadata": {
    "pycharm": {
     "name": "#%%\n"
    }
   },
   "outputs": [
    {
     "name": "stdout",
     "output_type": "stream",
     "text": [
      "0 ; FLAVOR:Marlin\n",
      "1 ; TIME:1182\n",
      "2 ; Filament used: 3.22587m\n",
      "3 ; Layer height: 0.4\n",
      "4 ; MINX:76.12\n",
      "5 ; MINY:96.116\n",
      "6 ; MINZ:0.3\n",
      "7 ; MAXX:143.896\n",
      "8 ; MAXY:163.889\n",
      "9 ; MAXZ:70.112\n",
      "10 ; Generated with Cura_SteamEngine 99.9.1-Arachne_engine_beta\n",
      "11 M140 S70 line_nr11 layer_nr0 section_typeNone\n",
      "12 M105 line_nr12 layer_nr0 section_typeNone\n",
      "13 M190 S70 line_nr13 layer_nr0 section_typeNone\n",
      "14 M104 S230 line_nr14 layer_nr0 section_typeNone\n",
      "15 M105 line_nr15 layer_nr0 section_typeNone\n",
      "16 M109 S230 line_nr16 layer_nr0 section_typeNone\n",
      "17 M82 line_nr17 layer_nr0 section_typeNone ; absolute extrusion mode\n",
      "18 G28 line_nr18 layer_nr0 section_typeNone\n",
      "19 G1 Z15 F300 line_nr19 layer_nr0 section_typeNone\n",
      "-------------\n",
      "0 M83 line_nr37 layer_nr0 section_typeNone ; relative extrusion mode\n",
      "1 ; LAYER_COUNT:175\n",
      "2 ; LAYER:0\n",
      "3 M107 line_nr40 layer_nr0 section_typeNone\n",
      "4 G0 F1500 X88.209 Y104.053 Z0.3 line_nr41 layer_nr0 section_typeNone\n",
      "5 G0 X88.603 Y104.545 line_nr42 layer_nr0 section_typeNone\n",
      "6 ; TYPE:SKIRT\n",
      "7 G1 X89.879 Y103.525 E0.13478 line_nr44 layer_nr0 section_typeSKIRT\n",
      "8 G1 X90.39 Y103.142 E0.05269 line_nr45 layer_nr0 section_typeSKIRT\n",
      "9 G1 X91.723 Y102.219 E0.13377 line_nr46 layer_nr0 section_typeSKIRT\n",
      "10 G1 X92.262 Y101.87 E0.05298 line_nr47 layer_nr0 section_typeSKIRT\n",
      "11 G1 X93.355 Y101.212 E0.10526 line_nr48 layer_nr0 section_typeSKIRT\n",
      "12 G1 X94.145 Y100.767 E0.07481 line_nr49 layer_nr0 section_typeSKIRT\n",
      "13 G1 X95.371 Y100.137 E0.11373 line_nr50 layer_nr0 section_typeSKIRT\n",
      "14 G1 X96.197 Y99.743 E0.07551 line_nr51 layer_nr0 section_typeSKIRT\n",
      "15 G1 X97.375 Y99.234 E0.10588 line_nr52 layer_nr0 section_typeSKIRT\n",
      "16 G1 X98.242 Y98.89 E0.07696 line_nr53 layer_nr0 section_typeSKIRT\n",
      "17 G1 X99.515 Y98.44 E0.1114 line_nr54 layer_nr0 section_typeSKIRT\n",
      "18 G1 X100.398 Y98.159 E0.07645 line_nr55 layer_nr0 section_typeSKIRT\n",
      "19 G1 X102.006 Y97.718 E0.13757 line_nr56 layer_nr0 section_typeSKIRT\n",
      "CenterPointXY (110.03530746759174, 129.90732780719372)\n"
     ]
    },
    {
     "data": {
      "text/plain": "    line_nr      Z        X        Y        E       F  layer_nr section_type  \\\n0        44  1.104   89.879  103.525  0.13478  3150.0         0        SKIRT   \n1        45  1.104   90.390  103.142  0.05269  3150.0         0        SKIRT   \n2        46  1.104   91.723  102.219  0.13377  3150.0         0        SKIRT   \n3        47  1.104   92.262  101.870  0.05298  3150.0         0        SKIRT   \n4        48  1.104   93.355  101.212  0.10526  3150.0         0        SKIRT   \n..      ...    ...      ...      ...      ...     ...       ...          ...   \n95      139  1.104  128.720  157.497  0.07503  3150.0         0        SKIRT   \n96      140  1.104  127.315  158.402  0.13789  3150.0         0        SKIRT   \n97      141  1.104  126.820  158.699  0.04763  3150.0         0        SKIRT   \n98      142  1.104  125.664  159.343  0.10918  3150.0         0        SKIRT   \n99      143  1.104  124.844  159.769  0.07624  3150.0         0        SKIRT   \n\n    distance_xy_cumsum         phi  \n0                  NaN -142.619886  \n1             0.638600 -143.721947  \n2             2.259963 -146.520433  \n3             2.902086 -147.628740  \n4             4.177865 -149.830991  \n..                 ...         ...  \n95          106.227924   34.107233  \n96          107.899166   31.233392  \n97          108.476430   30.240919  \n98          109.799711   27.965798  \n99          110.723765   26.377258  \n\n[100 rows x 10 columns]",
      "text/html": "<div>\n<style scoped>\n    .dataframe tbody tr th:only-of-type {\n        vertical-align: middle;\n    }\n\n    .dataframe tbody tr th {\n        vertical-align: top;\n    }\n\n    .dataframe thead th {\n        text-align: right;\n    }\n</style>\n<table border=\"1\" class=\"dataframe\">\n  <thead>\n    <tr style=\"text-align: right;\">\n      <th></th>\n      <th>line_nr</th>\n      <th>Z</th>\n      <th>X</th>\n      <th>Y</th>\n      <th>E</th>\n      <th>F</th>\n      <th>layer_nr</th>\n      <th>section_type</th>\n      <th>distance_xy_cumsum</th>\n      <th>phi</th>\n    </tr>\n  </thead>\n  <tbody>\n    <tr>\n      <th>0</th>\n      <td>44</td>\n      <td>1.104</td>\n      <td>89.879</td>\n      <td>103.525</td>\n      <td>0.13478</td>\n      <td>3150.0</td>\n      <td>0</td>\n      <td>SKIRT</td>\n      <td>NaN</td>\n      <td>-142.619886</td>\n    </tr>\n    <tr>\n      <th>1</th>\n      <td>45</td>\n      <td>1.104</td>\n      <td>90.390</td>\n      <td>103.142</td>\n      <td>0.05269</td>\n      <td>3150.0</td>\n      <td>0</td>\n      <td>SKIRT</td>\n      <td>0.638600</td>\n      <td>-143.721947</td>\n    </tr>\n    <tr>\n      <th>2</th>\n      <td>46</td>\n      <td>1.104</td>\n      <td>91.723</td>\n      <td>102.219</td>\n      <td>0.13377</td>\n      <td>3150.0</td>\n      <td>0</td>\n      <td>SKIRT</td>\n      <td>2.259963</td>\n      <td>-146.520433</td>\n    </tr>\n    <tr>\n      <th>3</th>\n      <td>47</td>\n      <td>1.104</td>\n      <td>92.262</td>\n      <td>101.870</td>\n      <td>0.05298</td>\n      <td>3150.0</td>\n      <td>0</td>\n      <td>SKIRT</td>\n      <td>2.902086</td>\n      <td>-147.628740</td>\n    </tr>\n    <tr>\n      <th>4</th>\n      <td>48</td>\n      <td>1.104</td>\n      <td>93.355</td>\n      <td>101.212</td>\n      <td>0.10526</td>\n      <td>3150.0</td>\n      <td>0</td>\n      <td>SKIRT</td>\n      <td>4.177865</td>\n      <td>-149.830991</td>\n    </tr>\n    <tr>\n      <th>...</th>\n      <td>...</td>\n      <td>...</td>\n      <td>...</td>\n      <td>...</td>\n      <td>...</td>\n      <td>...</td>\n      <td>...</td>\n      <td>...</td>\n      <td>...</td>\n      <td>...</td>\n    </tr>\n    <tr>\n      <th>95</th>\n      <td>139</td>\n      <td>1.104</td>\n      <td>128.720</td>\n      <td>157.497</td>\n      <td>0.07503</td>\n      <td>3150.0</td>\n      <td>0</td>\n      <td>SKIRT</td>\n      <td>106.227924</td>\n      <td>34.107233</td>\n    </tr>\n    <tr>\n      <th>96</th>\n      <td>140</td>\n      <td>1.104</td>\n      <td>127.315</td>\n      <td>158.402</td>\n      <td>0.13789</td>\n      <td>3150.0</td>\n      <td>0</td>\n      <td>SKIRT</td>\n      <td>107.899166</td>\n      <td>31.233392</td>\n    </tr>\n    <tr>\n      <th>97</th>\n      <td>141</td>\n      <td>1.104</td>\n      <td>126.820</td>\n      <td>158.699</td>\n      <td>0.04763</td>\n      <td>3150.0</td>\n      <td>0</td>\n      <td>SKIRT</td>\n      <td>108.476430</td>\n      <td>30.240919</td>\n    </tr>\n    <tr>\n      <th>98</th>\n      <td>142</td>\n      <td>1.104</td>\n      <td>125.664</td>\n      <td>159.343</td>\n      <td>0.10918</td>\n      <td>3150.0</td>\n      <td>0</td>\n      <td>SKIRT</td>\n      <td>109.799711</td>\n      <td>27.965798</td>\n    </tr>\n    <tr>\n      <th>99</th>\n      <td>143</td>\n      <td>1.104</td>\n      <td>124.844</td>\n      <td>159.769</td>\n      <td>0.07624</td>\n      <td>3150.0</td>\n      <td>0</td>\n      <td>SKIRT</td>\n      <td>110.723765</td>\n      <td>26.377258</td>\n    </tr>\n  </tbody>\n</table>\n<p>100 rows × 10 columns</p>\n</div>"
     },
     "execution_count": 8,
     "metadata": {},
     "output_type": "execute_result"
    }
   ],
   "source": [
    "#file_name = 'ConeThicker3.gcode'\n",
    "\n",
    "line_height = 0.3\n",
    "\n",
    "remove_first_line_count = 0  #5\n",
    "\n",
    "gcode_str = GcodeContainer.load_gcode_file('../data/gcode/Cone.gcode')\n",
    "\n",
    "gcode = GcodeContainer(gcode_str,\n",
    "                       start_layer_height=0,\n",
    "                       printer_setting_line_height=line_height)\n",
    "\n",
    "gcode.separate_start_end(remove_first_line_count, limit_lines=None)\n",
    "\n",
    "#\n",
    "\n",
    "gcode.calc_g1_dataframe()\n",
    "\n",
    "gcode.gcode_df[[\"line_nr\", \"Z\", \"X\", \"Y\", \"E\", \"F\", \"layer_nr\", \"section_type\", \"distance_xy_cumsum\", \"phi\"]][:100]"
   ]
  },
  {
   "cell_type": "code",
   "execution_count": 10,
   "outputs": [
    {
     "data": {
      "text/plain": "Index(['X', 'Y', 'E', 'line_nr', 'layer_nr', 'section_type', 'F', 'Z',\n       'distance_xy', 'distance_xy_cumsum', 'rho', 'phi'],\n      dtype='object')"
     },
     "execution_count": 10,
     "metadata": {},
     "output_type": "execute_result"
    }
   ],
   "source": [
    "gcode.gcode_df.columns"
   ],
   "metadata": {
    "collapsed": false,
    "pycharm": {
     "name": "#%%\n"
    }
   }
  },
  {
   "cell_type": "code",
   "execution_count": 9,
   "metadata": {
    "pycharm": {
     "name": "#%%\n"
    }
   },
   "outputs": [
    {
     "ename": "KeyError",
     "evalue": "'layer'",
     "output_type": "error",
     "traceback": [
      "\u001B[0;31m---------------------------------------------------------------------------\u001B[0m",
      "\u001B[0;31mKeyError\u001B[0m                                  Traceback (most recent call last)",
      "File \u001B[0;32m/opt/homebrew/Caskroom/miniforge/base/envs/gwobble/lib/python3.10/site-packages/pandas/core/indexes/base.py:3800\u001B[0m, in \u001B[0;36mIndex.get_loc\u001B[0;34m(self, key, method, tolerance)\u001B[0m\n\u001B[1;32m   3799\u001B[0m \u001B[38;5;28;01mtry\u001B[39;00m:\n\u001B[0;32m-> 3800\u001B[0m     \u001B[38;5;28;01mreturn\u001B[39;00m \u001B[38;5;28;43mself\u001B[39;49m\u001B[38;5;241;43m.\u001B[39;49m\u001B[43m_engine\u001B[49m\u001B[38;5;241;43m.\u001B[39;49m\u001B[43mget_loc\u001B[49m\u001B[43m(\u001B[49m\u001B[43mcasted_key\u001B[49m\u001B[43m)\u001B[49m\n\u001B[1;32m   3801\u001B[0m \u001B[38;5;28;01mexcept\u001B[39;00m \u001B[38;5;167;01mKeyError\u001B[39;00m \u001B[38;5;28;01mas\u001B[39;00m err:\n",
      "File \u001B[0;32m/opt/homebrew/Caskroom/miniforge/base/envs/gwobble/lib/python3.10/site-packages/pandas/_libs/index.pyx:138\u001B[0m, in \u001B[0;36mpandas._libs.index.IndexEngine.get_loc\u001B[0;34m()\u001B[0m\n",
      "File \u001B[0;32m/opt/homebrew/Caskroom/miniforge/base/envs/gwobble/lib/python3.10/site-packages/pandas/_libs/index.pyx:165\u001B[0m, in \u001B[0;36mpandas._libs.index.IndexEngine.get_loc\u001B[0;34m()\u001B[0m\n",
      "File \u001B[0;32mpandas/_libs/hashtable_class_helper.pxi:5745\u001B[0m, in \u001B[0;36mpandas._libs.hashtable.PyObjectHashTable.get_item\u001B[0;34m()\u001B[0m\n",
      "File \u001B[0;32mpandas/_libs/hashtable_class_helper.pxi:5753\u001B[0m, in \u001B[0;36mpandas._libs.hashtable.PyObjectHashTable.get_item\u001B[0;34m()\u001B[0m\n",
      "\u001B[0;31mKeyError\u001B[0m: 'layer'",
      "\nThe above exception was the direct cause of the following exception:\n",
      "\u001B[0;31mKeyError\u001B[0m                                  Traceback (most recent call last)",
      "Cell \u001B[0;32mIn [9], line 11\u001B[0m\n\u001B[1;32m      3\u001B[0m color_handler \u001B[38;5;241m=\u001B[39m ColorChangeHandler(gcode,\n\u001B[1;32m      4\u001B[0m                                    color_change_order\u001B[38;5;241m=\u001B[39m[(\u001B[38;5;241m1\u001B[39m,\u001B[38;5;241m0\u001B[39m,\u001B[38;5;241m0\u001B[39m), (\u001B[38;5;241m0\u001B[39m,\u001B[38;5;241m0\u001B[39m,\u001B[38;5;241m1\u001B[39m)],\n\u001B[1;32m      5\u001B[0m                                    reduce_pressure_filament_distance\u001B[38;5;241m=\u001B[39m\u001B[38;5;241m1\u001B[39m,\n\u001B[1;32m      6\u001B[0m                                    negative_pressure_reduction_factor\u001B[38;5;241m=\u001B[39m\u001B[38;5;241m1\u001B[39m)\n\u001B[1;32m      7\u001B[0m \u001B[38;5;66;03m#rectraction_length=[4, 3, 2, 1, 0, 1, 2, 3, 4, 5, 6, 7, 8, 9, 10, 11, 12],\u001B[39;00m\n\u001B[1;32m      8\u001B[0m \u001B[38;5;66;03m#refill_retraction_length=[4, 3, 2, 1, 0, 1, 2, 3, 4, 5, 6, 7, 8, 9, 10, 11, 12],\u001B[39;00m\n\u001B[1;32m      9\u001B[0m \u001B[38;5;66;03m#retraction_speed=1800)\u001B[39;00m\n\u001B[1;32m     10\u001B[0m \u001B[38;5;66;03m#color_handler.calc_color_change_index_by_polar_splits(2)\u001B[39;00m\n\u001B[0;32m---> 11\u001B[0m color_handler\u001B[38;5;241m.\u001B[39mcalc_color_change_index_by_layer_count(\u001B[38;5;241m1\u001B[39m)\n\u001B[1;32m     12\u001B[0m color_handler\u001B[38;5;241m.\u001B[39madd_color_change_commands_to_gcode(gcode\u001B[38;5;241m.\u001B[39mlines_raw)\n\u001B[1;32m     14\u001B[0m color_handler\u001B[38;5;241m.\u001B[39mwrite_results_to_file()\n",
      "File \u001B[0;32m~/coding/gwobble/src/ColorChange.py:177\u001B[0m, in \u001B[0;36mColorChangeHandler.calc_color_change_index_by_layer_count\u001B[0;34m(self, delta_layer_count)\u001B[0m\n\u001B[1;32m    175\u001B[0m \u001B[38;5;28mself\u001B[39m\u001B[38;5;241m.\u001B[39mtype_of_change_label_list\u001B[38;5;241m.\u001B[39mappend(\u001B[38;5;124m\"\u001B[39m\u001B[38;5;124mlayer\u001B[39m\u001B[38;5;124m\"\u001B[39m)\n\u001B[1;32m    176\u001B[0m gcode_df_color \u001B[38;5;241m=\u001B[39m \u001B[38;5;28mself\u001B[39m\u001B[38;5;241m.\u001B[39mgcode_df\u001B[38;5;241m.\u001B[39mcopy()\n\u001B[0;32m--> 177\u001B[0m color_change_val \u001B[38;5;241m=\u001B[39m \u001B[43mgcode_df_color\u001B[49m\u001B[43m[\u001B[49m\u001B[38;5;124;43m\"\u001B[39;49m\u001B[38;5;124;43mlayer\u001B[39;49m\u001B[38;5;124;43m\"\u001B[39;49m\u001B[43m]\u001B[49m\n\u001B[1;32m    178\u001B[0m gcode_df_color[\u001B[38;5;124m\"\u001B[39m\u001B[38;5;124mdelta\u001B[39m\u001B[38;5;124m\"\u001B[39m] \u001B[38;5;241m=\u001B[39m color_change_val \u001B[38;5;241m%\u001B[39m delta_layer_count\n\u001B[1;32m    179\u001B[0m gcode_df_color[\u001B[38;5;124m\"\u001B[39m\u001B[38;5;124mdelta_val\u001B[39m\u001B[38;5;124m\"\u001B[39m] \u001B[38;5;241m=\u001B[39m color_change_val \u001B[38;5;241m/\u001B[39m\u001B[38;5;241m/\u001B[39m delta_layer_count\n",
      "File \u001B[0;32m/opt/homebrew/Caskroom/miniforge/base/envs/gwobble/lib/python3.10/site-packages/pandas/core/frame.py:3805\u001B[0m, in \u001B[0;36mDataFrame.__getitem__\u001B[0;34m(self, key)\u001B[0m\n\u001B[1;32m   3803\u001B[0m \u001B[38;5;28;01mif\u001B[39;00m \u001B[38;5;28mself\u001B[39m\u001B[38;5;241m.\u001B[39mcolumns\u001B[38;5;241m.\u001B[39mnlevels \u001B[38;5;241m>\u001B[39m \u001B[38;5;241m1\u001B[39m:\n\u001B[1;32m   3804\u001B[0m     \u001B[38;5;28;01mreturn\u001B[39;00m \u001B[38;5;28mself\u001B[39m\u001B[38;5;241m.\u001B[39m_getitem_multilevel(key)\n\u001B[0;32m-> 3805\u001B[0m indexer \u001B[38;5;241m=\u001B[39m \u001B[38;5;28;43mself\u001B[39;49m\u001B[38;5;241;43m.\u001B[39;49m\u001B[43mcolumns\u001B[49m\u001B[38;5;241;43m.\u001B[39;49m\u001B[43mget_loc\u001B[49m\u001B[43m(\u001B[49m\u001B[43mkey\u001B[49m\u001B[43m)\u001B[49m\n\u001B[1;32m   3806\u001B[0m \u001B[38;5;28;01mif\u001B[39;00m is_integer(indexer):\n\u001B[1;32m   3807\u001B[0m     indexer \u001B[38;5;241m=\u001B[39m [indexer]\n",
      "File \u001B[0;32m/opt/homebrew/Caskroom/miniforge/base/envs/gwobble/lib/python3.10/site-packages/pandas/core/indexes/base.py:3802\u001B[0m, in \u001B[0;36mIndex.get_loc\u001B[0;34m(self, key, method, tolerance)\u001B[0m\n\u001B[1;32m   3800\u001B[0m     \u001B[38;5;28;01mreturn\u001B[39;00m \u001B[38;5;28mself\u001B[39m\u001B[38;5;241m.\u001B[39m_engine\u001B[38;5;241m.\u001B[39mget_loc(casted_key)\n\u001B[1;32m   3801\u001B[0m \u001B[38;5;28;01mexcept\u001B[39;00m \u001B[38;5;167;01mKeyError\u001B[39;00m \u001B[38;5;28;01mas\u001B[39;00m err:\n\u001B[0;32m-> 3802\u001B[0m     \u001B[38;5;28;01mraise\u001B[39;00m \u001B[38;5;167;01mKeyError\u001B[39;00m(key) \u001B[38;5;28;01mfrom\u001B[39;00m \u001B[38;5;21;01merr\u001B[39;00m\n\u001B[1;32m   3803\u001B[0m \u001B[38;5;28;01mexcept\u001B[39;00m \u001B[38;5;167;01mTypeError\u001B[39;00m:\n\u001B[1;32m   3804\u001B[0m     \u001B[38;5;66;03m# If we have a listlike key, _check_indexing_error will raise\u001B[39;00m\n\u001B[1;32m   3805\u001B[0m     \u001B[38;5;66;03m#  InvalidIndexError. Otherwise we fall through and re-raise\u001B[39;00m\n\u001B[1;32m   3806\u001B[0m     \u001B[38;5;66;03m#  the TypeError.\u001B[39;00m\n\u001B[1;32m   3807\u001B[0m     \u001B[38;5;28mself\u001B[39m\u001B[38;5;241m.\u001B[39m_check_indexing_error(key)\n",
      "\u001B[0;31mKeyError\u001B[0m: 'layer'"
     ]
    }
   ],
   "source": [
    "color_labels = [\"blue\", \"white\", \"red\"]\n",
    "\n",
    "color_handler = ColorChangeHandler(gcode,\n",
    "                                   color_change_order=[(1,0,0), (0,0,1)],\n",
    "                                   reduce_pressure_filament_distance=1,\n",
    "                                   negative_pressure_reduction_factor=1)\n",
    "#rectraction_length=[4, 3, 2, 1, 0, 1, 2, 3, 4, 5, 6, 7, 8, 9, 10, 11, 12],\n",
    "#refill_retraction_length=[4, 3, 2, 1, 0, 1, 2, 3, 4, 5, 6, 7, 8, 9, 10, 11, 12],\n",
    "#retraction_speed=1800)\n",
    "#color_handler.calc_color_change_index_by_polar_splits(2)\n",
    "color_handler.calc_color_change_index_by_layer_count(1)\n",
    "color_handler.add_color_change_commands_to_gcode(gcode.lines_raw)\n",
    "\n",
    "color_handler.write_results_to_file()"
   ]
  },
  {
   "cell_type": "code",
   "execution_count": null,
   "outputs": [],
   "source": [],
   "metadata": {
    "collapsed": false,
    "pycharm": {
     "name": "#%%\n"
    }
   }
  }
 ],
 "metadata": {
  "kernelspec": {
   "display_name": "Python 3 (ipykernel)",
   "language": "python",
   "name": "python3"
  },
  "language_info": {
   "codemirror_mode": {
    "name": "ipython",
    "version": 3
   },
   "file_extension": ".py",
   "mimetype": "text/x-python",
   "name": "python",
   "nbconvert_exporter": "python",
   "pygments_lexer": "ipython3",
   "version": "3.10.6"
  }
 },
 "nbformat": 4,
 "nbformat_minor": 1
}