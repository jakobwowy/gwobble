{
 "cells": [
  {
   "cell_type": "code",
   "execution_count": null,
   "metadata": {},
   "outputs": [],
   "source": [
    "\"\"\"Module for line segment transformation.\"\"\"\n",
    "import math\n",
    "from src.GCodeContainer import GcodeContainer"
   ]
  },
  {
   "cell_type": "markdown",
   "metadata": {},
   "source": [
    "(1) check relative position of segment:\n",
    "- where is inside / outside?\n",
    "- get center point (x1 = x0 + dx/2), length, slope of segment\n",
    "\n",
    "(2) get transform parameters\n",
    "- get outer normal func of segment\n",
    "- get t_func value, t_func slope at center point\n",
    "\n",
    "(3) do transformation\n",
    "- normal shift center point by t_func value\n",
    "- get new slope at shifted center point\n",
    "\n",
    "(4) couple new t_segment with last t_segment\n",
    "- get new line func from new slope & new center point\n",
    "- get new line start point: f0 = f1 at x0"
   ]
  },
  {
   "cell_type": "markdown",
   "metadata": {},
   "source": [
    "### Mathe...\n",
    "**Summensätze (Additionstheoreme) für Sinus und Cosinus**\n",
    "\n",
    "Für zwei beliebige Winkel α und β gilt immer:\n",
    "- sin(α + β)   =   sin α cos β + cos α sin β\n",
    "- cos(α + β)  =   cos α cos β − sin α sin β"
   ]
  },
  {
   "cell_type": "code",
   "execution_count": null,
   "metadata": {},
   "outputs": [],
   "source": [
    "HORIZ = False\n",
    "VERT = True\n",
    "LTR = False\n",
    "RTL = True\n",
    "\n",
    "class LineSegTransformer:\n",
    "    def __init__(self, point_0, point_1) -> None:\n",
    "        \"\"\"initialize class instance\n",
    "\n",
    "        _extended_summary_\n",
    "\n",
    "        Args:\n",
    "            point_0 (tuple of floats x, y): last point coords\n",
    "            point_1 (tuple of floats x, y): current point coords\n",
    "            line_0_props (_type_): line equation properties of last segment,\n",
    "                                    None if unknown\n",
    "        \"\"\"\n",
    "        self.p0 = point_0\n",
    "        self.p1 = point_1\n",
    "\n",
    "        self.dx = self.p1[\"x\"] - self.p0[\"x\"]\n",
    "        self.dy = self.p1[\"y\"] - self.p0[\"y\"]\n",
    "        self.center = {\n",
    "            \"x\": self.p0[\"x\"] + (self.dx / 2),\n",
    "            \"y\": self.p0[\"y\"] + (self.dy / 2)\n",
    "            }\n",
    "\n",
    "        # some things we don't know yet\n",
    "        self.p0_tf = None\n",
    "        self.line0 = None\n",
    "        self.center_tf = None\n",
    "\n",
    "        # todo efficiency: use trigo or sqrt?\n",
    "        # length of current line segment before tf\n",
    "        self.length = math.sqrt(self.dx**2 + self.dy**2)\n",
    "\n",
    "        abs_dx = abs(self.dx)\n",
    "        abs_dy = abs(self.dy)\n",
    "        self.orientation = abs_dx < abs_dy\n",
    "        if self.orientation == VERT:\n",
    "            self.direction = self.dy / abs_dy\n",
    "        else:\n",
    "            self.direction = self.dx / abs_dx\n",
    "\n",
    "\n",
    "    def fit(self, arg_0: float, trans_func) -> None:\n",
    "        transform_arg = arg_0 + (self.length / 2)\n",
    "        # length of orthogonal transformation vector, sign -> direction\n",
    "        self.tf_ortho_length = trans_func(transform_arg)\n",
    "        \n",
    "        # approximate slope of transform function at tf point\n",
    "        # by minimal differential calculus\n",
    "        diff = self.length / 5_000\n",
    "        tf_val_0 = trans_func(transform_arg - diff)\n",
    "        tf_val_1 = trans_func(transform_arg + diff)\n",
    "        self.tf_func_center_slope = (tf_val_1 - tf_val_0) / (diff * 2)\n",
    "\n",
    "        return None\n",
    "\n",
    "    def transform(self, line0_params) -> None:\n",
    "        pass\n",
    "\n",
    "        return None"
   ]
  }
 ],
 "metadata": {
  "kernelspec": {
   "display_name": "Python 3.10.6 64-bit",
   "language": "python",
   "name": "python3"
  },
  "language_info": {
   "name": "python",
   "version": "3.10.6"
  },
  "orig_nbformat": 4,
  "vscode": {
   "interpreter": {
    "hash": "aee8b7b246df8f9039afb4144a1f6fd8d2ca17a180786b69acc140d282b71a49"
   }
  }
 },
 "nbformat": 4,
 "nbformat_minor": 2
}
