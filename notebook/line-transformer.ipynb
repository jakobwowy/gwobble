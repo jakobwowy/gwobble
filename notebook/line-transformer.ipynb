{
 "cells": [
  {
   "cell_type": "code",
   "execution_count": 4,
   "metadata": {},
   "outputs": [],
   "source": [
    "\"\"\"Module for line segment transformation.\"\"\"\n",
    "import math\n",
    "#from src.GCodeContainer import GcodeContainer"
   ]
  },
  {
   "cell_type": "markdown",
   "metadata": {},
   "source": [
    "(1) check relative position of segment:\n",
    "- where is inside / outside?\n",
    "- get center point (x1 = x0 + dx/2), length, slope of segment\n",
    "\n",
    "(2) get transform parameters\n",
    "- get outer normal func of segment\n",
    "- get t_func value, t_func slope at center point\n",
    "\n",
    "(3) do transformation\n",
    "- normal shift center point by t_func value\n",
    "- get new slope at shifted center point\n",
    "\n",
    "(4) couple new t_segment with last t_segment\n",
    "- get new line func from new slope & new center point\n",
    "- get new line start point: f0 = f1 at x0"
   ]
  },
  {
   "cell_type": "markdown",
   "metadata": {},
   "source": [
    "### Mathe...\n",
    "Addition der Winkel --> Anstieg der resultierenden Geraden errechnen:\n",
    "\n",
    "(1) Ausgangsgerade: Anstieg m = dx / dy  \n",
    "\n",
    "(2) Transformationsfunktion: lokalen Anstieg n approximieren über 2 benachbarte Funktionswerte  \n",
    "\n",
    "(3) Winkel (mit dem Koordinatenursprung) beider Anstiege addieren:  \n",
    "arctan(m) + arctan(n) = arctan((m + n) / (1 - m * n)) für m*n < 1  \n",
    "\n",
    "resultierender Anstieg:  \n",
    "(4) tan(arctan((m + n) / (1 - m * n))) für m*n < 1  \n",
    "\n",
    "(5) tan( Pi + arctan((m + n) / (1 - m * n))) für m*n > 1 und m > 0  \n",
    "\n",
    "(6) tan( -Pi + arctan((m + n) / (1 - m * n))) für m*n > 1 und m < 0"
   ]
  },
  {
   "cell_type": "code",
   "execution_count": 20,
   "metadata": {},
   "outputs": [],
   "source": [
    "# Transformationsfunktion\n",
    "def f_trans(arg_x: float, scale: float=1.0) -> float:\n",
    "    return (math.sin(arg_x) * scale)"
   ]
  },
  {
   "cell_type": "code",
   "execution_count": 28,
   "metadata": {},
   "outputs": [
    {
     "name": "stdout",
     "output_type": "stream",
     "text": [
      "Argument der Transformationsfunktion: 2.5680; Funktionswert 1.6280\n",
      "Länge AC: 6.0828, Anstieg m 0.1667, Anstieg n -6.0000\n",
      "Neuer Punkt Bi: (4.732362709587209, 6.605823742476747)\n",
      "Länge AB: 3.605551275463989, Länge ABi: 4.5241320536155625, d_len: 25.48%.\n"
     ]
    }
   ],
   "source": [
    "# Berechnung für einen einzelnen Punkt B des Dreiecks ABC:\n",
    "Arg_f = 0.0\n",
    "\n",
    "# Punkte A, B, C\n",
    "A = (2.0, 3.0)\n",
    "B = (5.0, 5.0)\n",
    "C = (8.0, 4.0)\n",
    "\n",
    "# Anstieg m der Strecke AB; Anstieg n ihrer Orthogonale\n",
    "dx_AC = C[0] - A[0]\n",
    "dy_AC = C[1] - A[1]\n",
    "m = dy_AC / dx_AC\n",
    "n = -1 / m\n",
    "\n",
    "# Fußpunkt der Orthogonalen durch B auf AC\n",
    "xh = (B[1] - A[1]) / (m + (1 / m))\n",
    "yh = A[1] + (n * xh)\n",
    "Bh = (xh, yh)\n",
    "\n",
    "# Fortschreibung des Arguments der Transformationsfunktion um dArg_f\n",
    "dx_ABh = Bh[0] - A[0]\n",
    "dy_ABh = Bh[1] - A[1]\n",
    "len_ABh = math.sqrt(dx_ABh**2 + dy_ABh**2)\n",
    "Arg_f += len_ABh\n",
    "\n",
    "# neuer Punkt B\n",
    "fb = f_trans(Arg_f, scale=3.0)\n",
    "print(f\"Argument der Transformationsfunktion: {Arg_f:.4f}; Funktionswert {fb:.4f}\")\n",
    "Bi = (\n",
    "    (B[0] - math.sqrt(fb**2 / (1 + n**2))),\n",
    "    (B[1] - (n * math.sqrt(fb**2 / (1 + n**2))))\n",
    ")\n",
    "\n",
    "l_AC = math.sqrt(dx_AC**2 + dy_AC**2)\n",
    "print(f\"Länge AC: {l_AC:.4f}, Anstieg m {m:.4f}, Anstieg n {n:.4f}\")\n",
    "print(f\"Neuer Punkt Bi: {Bi}\")\n",
    "\n",
    "# Längenänderung AB - ABi: mehr / weniger Materialaustrag?\n",
    "dx_AB = B[0] - A[0]\n",
    "dy_AB = B[1] - A[1]\n",
    "len_AB = math.sqrt(dx_AB**2 + dy_AB**2)\n",
    "dx_ABi = Bi[0] - A[0]\n",
    "dy_ABi = Bi[1] - A[1]\n",
    "len_ABi = math.sqrt(dx_ABi**2 + dy_ABi**2)\n",
    "d_len = (len_ABi / len_AB) - 1\n",
    "print(f\"Länge AB: {len_AB}, Länge ABi: {len_ABi}, d_len: {(d_len * 100):.2f}%.\")"
   ]
  },
  {
   "cell_type": "code",
   "execution_count": null,
   "metadata": {},
   "outputs": [],
   "source": [
    "HORIZ = False\n",
    "VERT = True\n",
    "LTR = False\n",
    "RTL = True\n",
    "\n",
    "class LineSegTransformer:\n",
    "    def __init__(self, point_0, point_1) -> None:\n",
    "        \"\"\"initialize class instance\n",
    "\n",
    "        _extended_summary_\n",
    "\n",
    "        Args:\n",
    "            point_0 (tuple of floats x, y): last point coords\n",
    "            point_1 (tuple of floats x, y): current point coords\n",
    "            line_0_props (_type_): line equation properties of last segment,\n",
    "                                    None if unknown\n",
    "        \"\"\"\n",
    "        self.p0 = point_0\n",
    "        self.p1 = point_1\n",
    "\n",
    "        self.dx = self.p1[\"x\"] - self.p0[\"x\"]\n",
    "        self.dy = self.p1[\"y\"] - self.p0[\"y\"]\n",
    "        self.center = {\n",
    "            \"x\": self.p0[\"x\"] + (self.dx / 2),\n",
    "            \"y\": self.p0[\"y\"] + (self.dy / 2)\n",
    "            }\n",
    "\n",
    "        # some things we don't know yet\n",
    "        self.p0_tf = None\n",
    "        self.line0 = None\n",
    "        self.center_tf = None\n",
    "\n",
    "        # todo efficiency: use trigo or sqrt?\n",
    "        # length of current line segment before tf\n",
    "        self.length = math.sqrt(self.dx**2 + self.dy**2)\n",
    "\n",
    "        abs_dx = abs(self.dx)\n",
    "        abs_dy = abs(self.dy)\n",
    "        self.orientation = abs_dx < abs_dy\n",
    "        if self.orientation == VERT:\n",
    "            self.direction = self.dy / abs_dy\n",
    "        else:\n",
    "            self.direction = self.dx / abs_dx\n",
    "\n",
    "\n",
    "    def fit(self, arg_0: float, trans_func) -> None:\n",
    "        transform_arg = arg_0 + (self.length / 2)\n",
    "        # length of orthogonal transformation vector, sign -> direction\n",
    "        self.tf_ortho_length = trans_func(transform_arg)\n",
    "        \n",
    "        # approximate slope of transform function at tf point\n",
    "        # by minimal differential calculus\n",
    "        diff = self.length / 5_000\n",
    "        tf_val_0 = trans_func(transform_arg - diff)\n",
    "        tf_val_1 = trans_func(transform_arg + diff)\n",
    "        self.tf_func_center_slope = (tf_val_1 - tf_val_0) / (diff * 2)\n",
    "\n",
    "        return None\n",
    "\n",
    "    def transform(self, line0_params) -> None:\n",
    "        pass\n",
    "\n",
    "        return None"
   ]
  }
 ],
 "metadata": {
  "kernelspec": {
   "display_name": "Python 3.10.6 ('py10venv')",
   "language": "python",
   "name": "python3"
  },
  "language_info": {
   "codemirror_mode": {
    "name": "ipython",
    "version": 3
   },
   "file_extension": ".py",
   "mimetype": "text/x-python",
   "name": "python",
   "nbconvert_exporter": "python",
   "pygments_lexer": "ipython3",
   "version": "3.10.6"
  },
  "orig_nbformat": 4,
  "vscode": {
   "interpreter": {
    "hash": "ab61e57538beb1a7e3bb05305d810a446a7675316f9b40c526f1b1845f02e7a9"
   }
  }
 },
 "nbformat": 4,
 "nbformat_minor": 2
}
